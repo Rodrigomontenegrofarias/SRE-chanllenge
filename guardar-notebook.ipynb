{
 "cells": [
  {
   "cell_type": "code",
   "execution_count": 1,
   "id": "6d517fc7",
   "metadata": {},
   "outputs": [
    {
     "name": "stdout",
     "output_type": "stream",
     "text": [
      "\u001b[0m\u001b[01;34mdatasets\u001b[0m/               model.ipynb       requirements.txt\r\n",
      "guardar-notebook.ipynb  pickle_model.pkl  \u001b[01;34mSRE-chanllenge\u001b[0m/\r\n"
     ]
    }
   ],
   "source": [
    "ls"
   ]
  },
  {
   "cell_type": "code",
   "execution_count": 2,
   "id": "2944dbb0",
   "metadata": {},
   "outputs": [],
   "source": [
    "rm -r SRE-chanllenge/"
   ]
  },
  {
   "cell_type": "code",
   "execution_count": 3,
   "id": "ffd35c36",
   "metadata": {},
   "outputs": [
    {
     "data": {
      "text/plain": [
       "'/root/notebooks'"
      ]
     },
     "execution_count": 3,
     "metadata": {},
     "output_type": "execute_result"
    }
   ],
   "source": [
    "pwd"
   ]
  },
  {
   "cell_type": "code",
   "execution_count": 4,
   "id": "fd9f95bd",
   "metadata": {},
   "outputs": [
    {
     "name": "stdout",
     "output_type": "stream",
     "text": [
      "\u001b[0m\u001b[01;34mdatasets\u001b[0m/               model.ipynb       requirements.txt\r\n",
      "guardar-notebook.ipynb  pickle_model.pkl\r\n"
     ]
    }
   ],
   "source": [
    "ls"
   ]
  },
  {
   "cell_type": "code",
   "execution_count": 6,
   "id": "3a7b146c",
   "metadata": {},
   "outputs": [
    {
     "name": "stdout",
     "output_type": "stream",
     "text": [
      "Enter the password of your Github account: ········\n",
      "Cloning into 'SRE-chanllenge'...\n",
      "remote: Enumerating objects: 59, done.\u001b[K\n",
      "remote: Counting objects: 100% (59/59), done.\u001b[K\n",
      "remote: Compressing objects: 100% (44/44), done.\u001b[K\n",
      "remote: Total 59 (delta 28), reused 45 (delta 15), pack-reused 0\u001b[K\n",
      "Unpacking objects: 100% (59/59), done.\n"
     ]
    }
   ],
   "source": [
    "from getpass import getpass\n",
    "import os\n",
    "\n",
    "os.environ['USER'] = \"Rodrigomontenegrofarias\"\n",
    "os.environ['PASSWORD'] = getpass('Enter the password of your Github account: ')\n",
    "os.environ['REPOSITORY'] = \"SRE-chanllenge\"\n",
    "os.environ['GITHUB_AUTH'] = os.environ['USER'] + ':' + os.environ['PASSWORD']\n",
    "\n",
    "!rm -rf $REPOSITORY # To remove the previous clone of the Github repository\n",
    "!git clone https://$GITHUB_AUTH@github.com/$USER/$REPOSITORY.git \n",
    "\n",
    "os.environ['USER'] = os.environ['PASSWORD'] = os.environ['REPOSITORY'] = os.environ['GITHUB_AUTH'] = \"\""
   ]
  },
  {
   "cell_type": "code",
   "execution_count": 7,
   "id": "0c556552",
   "metadata": {},
   "outputs": [
    {
     "name": "stdout",
     "output_type": "stream",
     "text": [
      "\u001b[0m\u001b[01;34mdatasets\u001b[0m/               model.ipynb       requirements.txt\r\n",
      "guardar-notebook.ipynb  pickle_model.pkl  \u001b[01;34mSRE-chanllenge\u001b[0m/\r\n"
     ]
    }
   ],
   "source": [
    "ls"
   ]
  },
  {
   "cell_type": "code",
   "execution_count": null,
   "id": "ab0d7289",
   "metadata": {},
   "outputs": [],
   "source": [
    "ls\n"
   ]
  },
  {
   "cell_type": "code",
   "execution_count": null,
   "id": "73d7599c",
   "metadata": {},
   "outputs": [],
   "source": [
    "ls"
   ]
  },
  {
   "cell_type": "code",
   "execution_count": null,
   "id": "addce340",
   "metadata": {},
   "outputs": [],
   "source": [
    "pwd\n"
   ]
  },
  {
   "cell_type": "code",
   "execution_count": null,
   "id": "9988b590",
   "metadata": {},
   "outputs": [],
   "source": [
    "ls"
   ]
  },
  {
   "cell_type": "code",
   "execution_count": null,
   "id": "5b4221c3",
   "metadata": {},
   "outputs": [],
   "source": [
    "cd SRE-chanllenge/"
   ]
  },
  {
   "cell_type": "code",
   "execution_count": null,
   "id": "28feca5a",
   "metadata": {},
   "outputs": [],
   "source": [
    "mkdir api-r"
   ]
  },
  {
   "cell_type": "code",
   "execution_count": null,
   "id": "66436185",
   "metadata": {},
   "outputs": [],
   "source": [
    "!cp -r /root/notebooks/pickle_model.pkl  /root/notebooks/SRE-chanllenge/api-r"
   ]
  },
  {
   "cell_type": "code",
   "execution_count": null,
   "id": "30b41895",
   "metadata": {},
   "outputs": [],
   "source": [
    "!cp -r /root/notebooks/model.ipynb  /root/notebooks/SRE-chanllenge"
   ]
  },
  {
   "cell_type": "code",
   "execution_count": null,
   "id": "885a75a6",
   "metadata": {},
   "outputs": [],
   "source": [
    "!git status"
   ]
  },
  {
   "cell_type": "code",
   "execution_count": null,
   "id": "d334f361",
   "metadata": {},
   "outputs": [],
   "source": [
    "!cp  /root/notebooks/pickle_model.pkl  /root/notebooks/SRE-chanllenge"
   ]
  },
  {
   "cell_type": "code",
   "execution_count": null,
   "id": "43f42f1b",
   "metadata": {},
   "outputs": [],
   "source": [
    "!cp -r /root/notebooks/guardar-notebook.ipynb  /root/notebooks/SRE-chanllenge"
   ]
  },
  {
   "cell_type": "code",
   "execution_count": null,
   "id": "08b07dcd",
   "metadata": {},
   "outputs": [],
   "source": [
    "!git status"
   ]
  },
  {
   "cell_type": "code",
   "execution_count": null,
   "id": "7f55ebf8",
   "metadata": {},
   "outputs": [],
   "source": [
    "ls"
   ]
  },
  {
   "cell_type": "code",
   "execution_count": null,
   "id": "99192af5",
   "metadata": {},
   "outputs": [],
   "source": [
    "!git config user.email \"rodrigo.montenegro@alumnos.uv.cl\"\n",
    "\n",
    "!git config user.name \"Rodrigomontenegrofarias\""
   ]
  },
  {
   "cell_type": "code",
   "execution_count": null,
   "id": "f218dfad",
   "metadata": {},
   "outputs": [],
   "source": [
    "!git remote -v"
   ]
  },
  {
   "cell_type": "code",
   "execution_count": null,
   "id": "2304818c",
   "metadata": {},
   "outputs": [],
   "source": [
    "!git add ."
   ]
  },
  {
   "cell_type": "code",
   "execution_count": null,
   "id": "06747f91",
   "metadata": {},
   "outputs": [],
   "source": [
    "!git commit -m 'commit message'"
   ]
  },
  {
   "cell_type": "code",
   "execution_count": null,
   "id": "ba5a2435",
   "metadata": {},
   "outputs": [],
   "source": [
    "!git push"
   ]
  },
  {
   "cell_type": "code",
   "execution_count": null,
   "id": "449fd683",
   "metadata": {},
   "outputs": [],
   "source": []
  }
 ],
 "metadata": {
  "kernelspec": {
   "display_name": "Python 3",
   "language": "python",
   "name": "python3"
  },
  "language_info": {
   "codemirror_mode": {
    "name": "ipython",
    "version": 3
   },
   "file_extension": ".py",
   "mimetype": "text/x-python",
   "name": "python",
   "nbconvert_exporter": "python",
   "pygments_lexer": "ipython3",
   "version": "3.6.9"
  },
  "vscode": {
   "interpreter": {
    "hash": "6e3977c52f5249dbc2a33b897faad1e0916758085298811edbd14ed6ad707d81"
   }
  }
 },
 "nbformat": 4,
 "nbformat_minor": 5
}
